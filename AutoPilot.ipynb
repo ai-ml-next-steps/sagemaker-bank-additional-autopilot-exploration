{
 "cells": [
  {
   "cell_type": "code",
   "execution_count": 1,
   "metadata": {},
   "outputs": [],
   "source": [
    "# 1. Download data"
   ]
  },
  {
   "cell_type": "code",
   "execution_count": 4,
   "metadata": {},
   "outputs": [
    {
     "name": "stdout",
     "output_type": "stream",
     "text": [
      "Archive:  bank-additional.zip\n",
      "   creating: bank-additional/\n",
      "  inflating: bank-additional/bank-additional-names.txt  \n",
      "  inflating: bank-additional/bank-additional.csv  \n",
      "  inflating: bank-additional/bank-additional-full.csv  \n"
     ]
    },
    {
     "name": "stderr",
     "output_type": "stream",
     "text": [
      "--2021-04-04 20:23:25--  https://sagemaker-sample-data-us-west-2.s3-us-west-2.amazonaws.com/autopilot/direct_marketing/bank-additional.zip\n",
      "Resolving sagemaker-sample-data-us-west-2.s3-us-west-2.amazonaws.com (sagemaker-sample-data-us-west-2.s3-us-west-2.amazonaws.com)... 52.218.196.41\n",
      "Connecting to sagemaker-sample-data-us-west-2.s3-us-west-2.amazonaws.com (sagemaker-sample-data-us-west-2.s3-us-west-2.amazonaws.com)|52.218.196.41|:443... connected.\n",
      "HTTP request sent, awaiting response... 200 OK\n",
      "Length: 432828 (423K) [application/zip]\n",
      "Saving to: ‘bank-additional.zip’\n",
      "\n",
      "     0K .......... .......... .......... .......... .......... 11%  148M 0s\n",
      "    50K .......... .......... .......... .......... .......... 23% 62.0M 0s\n",
      "   100K .......... .......... .......... .......... .......... 35%  115M 0s\n",
      "   150K .......... .......... .......... .......... .......... 47% 91.8M 0s\n",
      "   200K .......... .......... .......... .......... .......... 59%  102M 0s\n",
      "   250K .......... .......... .......... .......... .......... 70% 92.6M 0s\n",
      "   300K .......... .......... .......... .......... .......... 82%  103M 0s\n",
      "   350K .......... .......... .......... .......... .......... 94%  101M 0s\n",
      "   400K .......... .......... ..                              100%  385M=0.004s\n",
      "\n",
      "2021-04-04 20:23:25 (101 MB/s) - ‘bank-additional.zip’ saved [432828/432828]\n",
      "\n"
     ]
    }
   ],
   "source": [
    "%%sh\n",
    "wget -N https://sagemaker-sample-data-us-west-2.s3-us-west-2.amazonaws.com/autopilot/direct_marketing/bank-additional.zip\n",
    "unzip bank-additional.zip"
   ]
  },
  {
   "cell_type": "code",
   "execution_count": 5,
   "metadata": {},
   "outputs": [],
   "source": [
    "# 2. Upload data to s3"
   ]
  },
  {
   "cell_type": "code",
   "execution_count": 2,
   "metadata": {},
   "outputs": [],
   "source": [
    "import sagemaker "
   ]
  },
  {
   "cell_type": "code",
   "execution_count": 3,
   "metadata": {},
   "outputs": [],
   "source": [
    "prefix = 'sagemaker/DEMO-autopilot/input'\n",
    "sess = sagemaker.Session()"
   ]
  },
  {
   "cell_type": "code",
   "execution_count": 6,
   "metadata": {},
   "outputs": [
    {
     "name": "stdout",
     "output_type": "stream",
     "text": [
      "s3://sagemaker-us-west-2-076084266064/sagemaker/DEMO-autopilot/input/bank-additional-full.csv\n"
     ]
    }
   ],
   "source": [
    "uri = sess.upload_data(path=\"./bank-additional/bank-additional-full.csv\", key_prefix=prefix)\n",
    "print(uri)"
   ]
  },
  {
   "cell_type": "code",
   "execution_count": 7,
   "metadata": {},
   "outputs": [],
   "source": [
    "# output"
   ]
  },
  {
   "cell_type": "code",
   "execution_count": 8,
   "metadata": {},
   "outputs": [],
   "source": [
    "## Deployment and Prediction "
   ]
  },
  {
   "cell_type": "code",
   "execution_count": 9,
   "metadata": {},
   "outputs": [],
   "source": [
    "# Endpoint: my-first-autopilot-endpoint"
   ]
  },
  {
   "cell_type": "code",
   "execution_count": 14,
   "metadata": {},
   "outputs": [],
   "source": [
    "ep_name = 'my-first-autopilot-endpoint'\n",
    "sample='56,housemaid,married,basic.4y,no,no,no,telephone,may,mon,261,1,999,0,nonexistent,1.1,93.994,-36.4,4.857,5191.0'"
   ]
  },
  {
   "cell_type": "code",
   "execution_count": 11,
   "metadata": {},
   "outputs": [],
   "source": [
    "import boto3\n",
    "# create a boto3 client for the SageMaker runtime. This runtim contains a single API, invoke+endpoint\n",
    "sm_rt = boto3.Session().client('runtime.sagemaker')"
   ]
  },
  {
   "cell_type": "code",
   "execution_count": 15,
   "metadata": {},
   "outputs": [],
   "source": [
    "response = sm_rt.invoke_endpoint(EndpointName=ep_name, ContentType='text/csv', Accept='text/csv', Body=sample)"
   ]
  },
  {
   "cell_type": "code",
   "execution_count": 16,
   "metadata": {},
   "outputs": [
    {
     "data": {
      "text/plain": [
       "{'ResponseMetadata': {'RequestId': '5d4dbf70-a6ab-41b0-8816-8d0ace024e43',\n",
       "  'HTTPStatusCode': 200,\n",
       "  'HTTPHeaders': {'x-amzn-requestid': '5d4dbf70-a6ab-41b0-8816-8d0ace024e43',\n",
       "   'x-amzn-invoked-production-variant': 'default-variant-name',\n",
       "   'date': 'Mon, 05 Apr 2021 00:39:15 GMT',\n",
       "   'content-type': 'text/csv; charset=utf-8',\n",
       "   'content-length': '3'},\n",
       "  'RetryAttempts': 0},\n",
       " 'ContentType': 'text/csv; charset=utf-8',\n",
       " 'InvokedProductionVariant': 'default-variant-name',\n",
       " 'Body': <botocore.response.StreamingBody at 0x7fef74fc1910>}"
      ]
     },
     "execution_count": 16,
     "metadata": {},
     "output_type": "execute_result"
    }
   ],
   "source": [
    "response"
   ]
  },
  {
   "cell_type": "code",
   "execution_count": 17,
   "metadata": {},
   "outputs": [
    {
     "name": "stdout",
     "output_type": "stream",
     "text": [
      "model-response : no\n",
      "\n"
     ]
    }
   ],
   "source": [
    "response = response['Body'].read().decode('utf-8')\n",
    "print(f'model-response : {response}')"
   ]
  },
  {
   "cell_type": "code",
   "execution_count": 19,
   "metadata": {},
   "outputs": [
    {
     "name": "stdout",
     "output_type": "stream",
     "text": [
      "{\n",
      "    \"Endpoints\": [\n",
      "        {\n",
      "            \"EndpointName\": \"my-first-autopilot-endpoint\",\n",
      "            \"EndpointArn\": \"arn:aws:sagemaker:us-west-2:076084266064:endpoint/my-first-autopilot-endpoint\",\n",
      "            \"CreationTime\": 1617582097.974,\n",
      "            \"LastModifiedTime\": 1617582485.185,\n",
      "            \"EndpointStatus\": \"InService\"\n",
      "        }\n",
      "    ]\n",
      "}\n"
     ]
    }
   ],
   "source": [
    "!aws sagemaker list-endpoints "
   ]
  },
  {
   "cell_type": "markdown",
   "metadata": {},
   "source": [
    "## Once the feature engineering is complete, the model tuning starts. While it's running, we can use the SM Experiments SDK to keep track of jobs. "
   ]
  },
  {
   "cell_type": "code",
   "execution_count": 21,
   "metadata": {},
   "outputs": [],
   "source": [
    "import pandas as pd\n",
    "from sagemaker.analytics import ExperimentAnalytics "
   ]
  },
  {
   "cell_type": "code",
   "execution_count": 24,
   "metadata": {},
   "outputs": [],
   "source": [
    "exp = ExperimentAnalytics(\n",
    "    sagemaker_session=sess, \n",
    "    experiment_name = 'my-first-autopilot-job' + '-aws-auto-ml-job'\n",
    ")"
   ]
  },
  {
   "cell_type": "code",
   "execution_count": 25,
   "metadata": {},
   "outputs": [],
   "source": [
    "df = exp.dataframe()"
   ]
  },
  {
   "cell_type": "code",
   "execution_count": 26,
   "metadata": {},
   "outputs": [
    {
     "name": "stdout",
     "output_type": "stream",
     "text": [
      "Number of jobs: 271\n"
     ]
    }
   ],
   "source": [
    "print(f'Number of jobs: {len(df)}')"
   ]
  },
  {
   "cell_type": "code",
   "execution_count": 30,
   "metadata": {},
   "outputs": [],
   "source": [
    "df = pd.concat([df['ObjectiveMetric - Max'],\n",
    "               df.drop(['ObjectiveMetric - Max'], axis=1)], axis=1)"
   ]
  },
  {
   "cell_type": "code",
   "execution_count": 31,
   "metadata": {},
   "outputs": [
    {
     "data": {
      "text/html": [
       "<div>\n",
       "<style scoped>\n",
       "    .dataframe tbody tr th:only-of-type {\n",
       "        vertical-align: middle;\n",
       "    }\n",
       "\n",
       "    .dataframe tbody tr th {\n",
       "        vertical-align: top;\n",
       "    }\n",
       "\n",
       "    .dataframe thead th {\n",
       "        text-align: right;\n",
       "    }\n",
       "</style>\n",
       "<table border=\"1\" class=\"dataframe\">\n",
       "  <thead>\n",
       "    <tr style=\"text-align: right;\">\n",
       "      <th></th>\n",
       "      <th>ObjectiveMetric - Max</th>\n",
       "      <th>TrialComponentName</th>\n",
       "      <th>DisplayName</th>\n",
       "      <th>SourceArn</th>\n",
       "      <th>SageMaker.ImageUri</th>\n",
       "      <th>SageMaker.InstanceCount</th>\n",
       "      <th>SageMaker.InstanceType</th>\n",
       "      <th>SageMaker.VolumeSizeInGB</th>\n",
       "      <th>_tuning_objective_metric</th>\n",
       "      <th>alpha</th>\n",
       "      <th>...</th>\n",
       "      <th>code - MediaType</th>\n",
       "      <th>code - Value</th>\n",
       "      <th>input_channel_mode</th>\n",
       "      <th>job_name</th>\n",
       "      <th>label_col</th>\n",
       "      <th>max_dataset_size</th>\n",
       "      <th>SageMaker.ImageUri - MediaType</th>\n",
       "      <th>SageMaker.ImageUri - Value</th>\n",
       "      <th>ds - MediaType</th>\n",
       "      <th>ds - Value</th>\n",
       "    </tr>\n",
       "  </thead>\n",
       "  <tbody>\n",
       "    <tr>\n",
       "      <th>23</th>\n",
       "      <td>0.78789</td>\n",
       "      <td>tuning-job-1-d3c3521924bf4cd7bf-226-7d5c8a9b-a...</td>\n",
       "      <td>tuning-job-1-d3c3521924bf4cd7bf-226-7d5c8a9b-a...</td>\n",
       "      <td>arn:aws:sagemaker:us-west-2:076084266064:train...</td>\n",
       "      <td>246618743249.dkr.ecr.us-west-2.amazonaws.com/s...</td>\n",
       "      <td>1.0</td>\n",
       "      <td>ml.m5.4xlarge</td>\n",
       "      <td>50.0</td>\n",
       "      <td>validation:f1</td>\n",
       "      <td>0.429141</td>\n",
       "      <td>...</td>\n",
       "      <td>NaN</td>\n",
       "      <td>NaN</td>\n",
       "      <td>NaN</td>\n",
       "      <td>NaN</td>\n",
       "      <td>NaN</td>\n",
       "      <td>NaN</td>\n",
       "      <td>NaN</td>\n",
       "      <td>NaN</td>\n",
       "      <td>NaN</td>\n",
       "      <td>NaN</td>\n",
       "    </tr>\n",
       "    <tr>\n",
       "      <th>146</th>\n",
       "      <td>0.78731</td>\n",
       "      <td>tuning-job-1-d3c3521924bf4cd7bf-103-276c1416-a...</td>\n",
       "      <td>tuning-job-1-d3c3521924bf4cd7bf-103-276c1416-a...</td>\n",
       "      <td>arn:aws:sagemaker:us-west-2:076084266064:train...</td>\n",
       "      <td>246618743249.dkr.ecr.us-west-2.amazonaws.com/s...</td>\n",
       "      <td>1.0</td>\n",
       "      <td>ml.m5.4xlarge</td>\n",
       "      <td>50.0</td>\n",
       "      <td>validation:f1</td>\n",
       "      <td>0.000003</td>\n",
       "      <td>...</td>\n",
       "      <td>NaN</td>\n",
       "      <td>NaN</td>\n",
       "      <td>NaN</td>\n",
       "      <td>NaN</td>\n",
       "      <td>NaN</td>\n",
       "      <td>NaN</td>\n",
       "      <td>NaN</td>\n",
       "      <td>NaN</td>\n",
       "      <td>NaN</td>\n",
       "      <td>NaN</td>\n",
       "    </tr>\n",
       "    <tr>\n",
       "      <th>116</th>\n",
       "      <td>0.78700</td>\n",
       "      <td>tuning-job-1-d3c3521924bf4cd7bf-128-0dfb7438-a...</td>\n",
       "      <td>tuning-job-1-d3c3521924bf4cd7bf-128-0dfb7438-a...</td>\n",
       "      <td>arn:aws:sagemaker:us-west-2:076084266064:train...</td>\n",
       "      <td>246618743249.dkr.ecr.us-west-2.amazonaws.com/s...</td>\n",
       "      <td>1.0</td>\n",
       "      <td>ml.m5.4xlarge</td>\n",
       "      <td>50.0</td>\n",
       "      <td>validation:f1</td>\n",
       "      <td>0.751338</td>\n",
       "      <td>...</td>\n",
       "      <td>NaN</td>\n",
       "      <td>NaN</td>\n",
       "      <td>NaN</td>\n",
       "      <td>NaN</td>\n",
       "      <td>NaN</td>\n",
       "      <td>NaN</td>\n",
       "      <td>NaN</td>\n",
       "      <td>NaN</td>\n",
       "      <td>NaN</td>\n",
       "      <td>NaN</td>\n",
       "    </tr>\n",
       "    <tr>\n",
       "      <th>21</th>\n",
       "      <td>0.78645</td>\n",
       "      <td>tuning-job-1-d3c3521924bf4cd7bf-230-e37ee377-a...</td>\n",
       "      <td>tuning-job-1-d3c3521924bf4cd7bf-230-e37ee377-a...</td>\n",
       "      <td>arn:aws:sagemaker:us-west-2:076084266064:train...</td>\n",
       "      <td>246618743249.dkr.ecr.us-west-2.amazonaws.com/s...</td>\n",
       "      <td>1.0</td>\n",
       "      <td>ml.m5.4xlarge</td>\n",
       "      <td>50.0</td>\n",
       "      <td>validation:f1</td>\n",
       "      <td>0.359242</td>\n",
       "      <td>...</td>\n",
       "      <td>NaN</td>\n",
       "      <td>NaN</td>\n",
       "      <td>NaN</td>\n",
       "      <td>NaN</td>\n",
       "      <td>NaN</td>\n",
       "      <td>NaN</td>\n",
       "      <td>NaN</td>\n",
       "      <td>NaN</td>\n",
       "      <td>NaN</td>\n",
       "      <td>NaN</td>\n",
       "    </tr>\n",
       "    <tr>\n",
       "      <th>0</th>\n",
       "      <td>0.78555</td>\n",
       "      <td>tuning-job-1-d3c3521924bf4cd7bf-249-9c9289c1-a...</td>\n",
       "      <td>tuning-job-1-d3c3521924bf4cd7bf-249-9c9289c1-a...</td>\n",
       "      <td>arn:aws:sagemaker:us-west-2:076084266064:train...</td>\n",
       "      <td>246618743249.dkr.ecr.us-west-2.amazonaws.com/s...</td>\n",
       "      <td>1.0</td>\n",
       "      <td>ml.m5.4xlarge</td>\n",
       "      <td>50.0</td>\n",
       "      <td>validation:f1</td>\n",
       "      <td>2.000000</td>\n",
       "      <td>...</td>\n",
       "      <td>NaN</td>\n",
       "      <td>NaN</td>\n",
       "      <td>NaN</td>\n",
       "      <td>NaN</td>\n",
       "      <td>NaN</td>\n",
       "      <td>NaN</td>\n",
       "      <td>NaN</td>\n",
       "      <td>NaN</td>\n",
       "      <td>NaN</td>\n",
       "      <td>NaN</td>\n",
       "    </tr>\n",
       "  </tbody>\n",
       "</table>\n",
       "<p>5 rows × 171 columns</p>\n",
       "</div>"
      ],
      "text/plain": [
       "     ObjectiveMetric - Max                                 TrialComponentName  \\\n",
       "23                 0.78789  tuning-job-1-d3c3521924bf4cd7bf-226-7d5c8a9b-a...   \n",
       "146                0.78731  tuning-job-1-d3c3521924bf4cd7bf-103-276c1416-a...   \n",
       "116                0.78700  tuning-job-1-d3c3521924bf4cd7bf-128-0dfb7438-a...   \n",
       "21                 0.78645  tuning-job-1-d3c3521924bf4cd7bf-230-e37ee377-a...   \n",
       "0                  0.78555  tuning-job-1-d3c3521924bf4cd7bf-249-9c9289c1-a...   \n",
       "\n",
       "                                           DisplayName  \\\n",
       "23   tuning-job-1-d3c3521924bf4cd7bf-226-7d5c8a9b-a...   \n",
       "146  tuning-job-1-d3c3521924bf4cd7bf-103-276c1416-a...   \n",
       "116  tuning-job-1-d3c3521924bf4cd7bf-128-0dfb7438-a...   \n",
       "21   tuning-job-1-d3c3521924bf4cd7bf-230-e37ee377-a...   \n",
       "0    tuning-job-1-d3c3521924bf4cd7bf-249-9c9289c1-a...   \n",
       "\n",
       "                                             SourceArn  \\\n",
       "23   arn:aws:sagemaker:us-west-2:076084266064:train...   \n",
       "146  arn:aws:sagemaker:us-west-2:076084266064:train...   \n",
       "116  arn:aws:sagemaker:us-west-2:076084266064:train...   \n",
       "21   arn:aws:sagemaker:us-west-2:076084266064:train...   \n",
       "0    arn:aws:sagemaker:us-west-2:076084266064:train...   \n",
       "\n",
       "                                    SageMaker.ImageUri  \\\n",
       "23   246618743249.dkr.ecr.us-west-2.amazonaws.com/s...   \n",
       "146  246618743249.dkr.ecr.us-west-2.amazonaws.com/s...   \n",
       "116  246618743249.dkr.ecr.us-west-2.amazonaws.com/s...   \n",
       "21   246618743249.dkr.ecr.us-west-2.amazonaws.com/s...   \n",
       "0    246618743249.dkr.ecr.us-west-2.amazonaws.com/s...   \n",
       "\n",
       "     SageMaker.InstanceCount SageMaker.InstanceType  SageMaker.VolumeSizeInGB  \\\n",
       "23                       1.0          ml.m5.4xlarge                      50.0   \n",
       "146                      1.0          ml.m5.4xlarge                      50.0   \n",
       "116                      1.0          ml.m5.4xlarge                      50.0   \n",
       "21                       1.0          ml.m5.4xlarge                      50.0   \n",
       "0                        1.0          ml.m5.4xlarge                      50.0   \n",
       "\n",
       "    _tuning_objective_metric     alpha  ...  code - MediaType  code - Value  \\\n",
       "23             validation:f1  0.429141  ...               NaN           NaN   \n",
       "146            validation:f1  0.000003  ...               NaN           NaN   \n",
       "116            validation:f1  0.751338  ...               NaN           NaN   \n",
       "21             validation:f1  0.359242  ...               NaN           NaN   \n",
       "0              validation:f1  2.000000  ...               NaN           NaN   \n",
       "\n",
       "     input_channel_mode  job_name  label_col  max_dataset_size  \\\n",
       "23                  NaN       NaN        NaN               NaN   \n",
       "146                 NaN       NaN        NaN               NaN   \n",
       "116                 NaN       NaN        NaN               NaN   \n",
       "21                  NaN       NaN        NaN               NaN   \n",
       "0                   NaN       NaN        NaN               NaN   \n",
       "\n",
       "     SageMaker.ImageUri - MediaType SageMaker.ImageUri - Value ds - MediaType  \\\n",
       "23                              NaN                        NaN            NaN   \n",
       "146                             NaN                        NaN            NaN   \n",
       "116                             NaN                        NaN            NaN   \n",
       "21                              NaN                        NaN            NaN   \n",
       "0                               NaN                        NaN            NaN   \n",
       "\n",
       "     ds - Value  \n",
       "23          NaN  \n",
       "146         NaN  \n",
       "116         NaN  \n",
       "21          NaN  \n",
       "0           NaN  \n",
       "\n",
       "[5 rows x 171 columns]"
      ]
     },
     "execution_count": 31,
     "metadata": {},
     "output_type": "execute_result"
    }
   ],
   "source": [
    "df.sort_values('ObjectiveMetric - Max', ascending=0)[:5]"
   ]
  },
  {
   "cell_type": "markdown",
   "metadata": {},
   "source": [
    "## Once model tuning is complete, we can easily find the best candidate "
   ]
  },
  {
   "cell_type": "markdown",
   "metadata": {},
   "source": [
    "Using sagemaker SDK and boto3"
   ]
  },
  {
   "cell_type": "markdown",
   "metadata": {},
   "source": [
    "## Cleaning up"
   ]
  },
  {
   "cell_type": "markdown",
   "metadata": {},
   "source": [
    "## Model Artifacts"
   ]
  },
  {
   "cell_type": "code",
   "execution_count": 34,
   "metadata": {},
   "outputs": [
    {
     "name": "stdout",
     "output_type": "stream",
     "text": [
      "                           PRE data-processor-models/\n",
      "                           PRE documentation/\n",
      "                           PRE preprocessed-data/\n",
      "                           PRE sagemaker-automl-candidates/\n",
      "                           PRE transformed-data/\n",
      "                           PRE tuning/\n",
      "                           PRE validations/\n"
     ]
    }
   ],
   "source": [
    "!aws s3 ls s3://sagemaker-us-west-2-076084266064/sagemaker/DEMO-autopilot/output/my-first-autopilot-job/"
   ]
  },
  {
   "cell_type": "code",
   "execution_count": 38,
   "metadata": {},
   "outputs": [
    {
     "name": "stdout",
     "output_type": "stream",
     "text": [
      "                           PRE train/\n",
      "                           PRE validation/\n"
     ]
    }
   ],
   "source": [
    "!aws s3 ls s3://sagemaker-us-west-2-076084266064/sagemaker/DEMO-autopilot/output/my-first-autopilot-job/preprocessed-data/tuning_data/"
   ]
  },
  {
   "cell_type": "markdown",
   "metadata": {},
   "source": [
    "\n",
    "PRE data-processor-models/PRE preprocessed-data/PRE sagemaker-automl-candidates/PRE transformed-data/PRE tuning/\n",
    "\n",
    "    - The preprocessed-data/tuning_data prefix contains the training and validation splits generated from the input dataset. Each split is further broken into small CSV chunks:\n",
    "\n",
    "    - The sagemaker-automl-candidates prefix contains ten data preprocessing scripts (dpp[0-9].py), one for each pipeline. It also contains the code to train them (trainer.py) on the input dataset, and the code to process the input dataset with each one of the ten resulting models (sagemaker_serve.py).\n",
    "    - The data-processor-models prefix contains the ten data processing models trained by the dpp scripts.\n",
    "    - The transformed-data prefix contains the ten processed versions of the training and validation splits.\n",
    "    - The sagemaker-automl-candidates prefix contains the two auto-generated notebooks.\n",
    "    - Finally, the tuning prefix contains the actual models trained during the Model Tuning step.\n"
   ]
  },
  {
   "cell_type": "code",
   "execution_count": null,
   "metadata": {},
   "outputs": [],
   "source": []
  }
 ],
 "metadata": {
  "instance_type": "ml.t3.medium",
  "kernelspec": {
   "display_name": "Python 3 (Data Science)",
   "language": "python",
   "name": "python3__SAGEMAKER_INTERNAL__arn:aws:sagemaker:us-west-2:236514542706:image/datascience-1.0"
  },
  "language_info": {
   "codemirror_mode": {
    "name": "ipython",
    "version": 3
   },
   "file_extension": ".py",
   "mimetype": "text/x-python",
   "name": "python",
   "nbconvert_exporter": "python",
   "pygments_lexer": "ipython3",
   "version": "3.7.10"
  }
 },
 "nbformat": 4,
 "nbformat_minor": 4
}
